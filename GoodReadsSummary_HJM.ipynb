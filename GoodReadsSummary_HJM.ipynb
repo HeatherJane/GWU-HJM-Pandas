{
 "cells": [
  {
   "cell_type": "code",
   "execution_count": 30,
   "metadata": {},
   "outputs": [],
   "source": [
    "# Import Dependencies\n",
    "import pandas as pd\n",
    "import os"
   ]
  },
  {
   "cell_type": "code",
   "execution_count": 31,
   "metadata": {},
   "outputs": [],
   "source": [
    "# File to Load\n",
    "csvpath = os.path.join('Resources','books_clean.csv')\n",
    "\n",
    "# Read the modified GoodReads csv and store into Pandas DataFrame\n",
    "goodbooks_df = pd.read_csv(csvpath)"
   ]
  },
  {
   "cell_type": "code",
   "execution_count": 32,
   "metadata": {},
   "outputs": [
    {
     "data": {
      "text/plain": [
       "4664"
      ]
     },
     "execution_count": 32,
     "metadata": {},
     "output_type": "execute_result"
    }
   ],
   "source": [
    "# Calculate the number of unique authors in the DataFrame\n",
    "goodbooks_df[\"Authors\"].nunique()"
   ]
  },
  {
   "cell_type": "code",
   "execution_count": 34,
   "metadata": {},
   "outputs": [
    {
     "data": {
      "text/plain": [
       "-1750.0"
      ]
     },
     "execution_count": 34,
     "metadata": {},
     "output_type": "execute_result"
    }
   ],
   "source": [
    "# Calculate the earliest/latest year a book was published\n",
    "goodbooks_df[\"Publication Year\"].min()"
   ]
  },
  {
   "cell_type": "code",
   "execution_count": 35,
   "metadata": {},
   "outputs": [
    {
     "data": {
      "text/plain": [
       "2017.0"
      ]
     },
     "execution_count": 35,
     "metadata": {},
     "output_type": "execute_result"
    }
   ],
   "source": [
    "goodbooks_df[\"Publication Year\"].max()"
   ]
  },
  {
   "cell_type": "code",
   "execution_count": 41,
   "metadata": {},
   "outputs": [
    {
     "data": {
      "text/plain": [
       "13450406"
      ]
     },
     "execution_count": 41,
     "metadata": {},
     "output_type": "execute_result"
    }
   ],
   "source": [
    "# Calculate the total reviews for the entire dataset\n",
    "onestar = goodbooks_df[\"One Star Reviews\"].sum()\n",
    "onestar"
   ]
  },
  {
   "cell_type": "code",
   "execution_count": 37,
   "metadata": {},
   "outputs": [],
   "source": [
    "twostar = goodbooks_df[\"Two Star Reviews\"].sum()\n",
    "threestar = goodbooks_df[\"Three Star Reviews\"].sum()\n",
    "fourstar = goodbooks_df[\"Four Star Reviews\"].sum()\n",
    "fivestar = goodbooks_df[\"Five Star Reviews\"].sum()"
   ]
  },
  {
   "cell_type": "code",
   "execution_count": 42,
   "metadata": {},
   "outputs": [
    {
     "data": {
      "text/plain": [
       "596873216"
      ]
     },
     "execution_count": 42,
     "metadata": {},
     "output_type": "execute_result"
    }
   ],
   "source": [
    "# Hint: use the pandas' sum() method to get the sum for each row\n",
    "Totalreviewcount = (onestar + twostar + threestar + fourstar + fivestar)\n",
    "Totalreviewcount"
   ]
  },
  {
   "cell_type": "code",
   "execution_count": 48,
   "metadata": {},
   "outputs": [
    {
     "data": {
      "text/html": [
       "<div>\n",
       "<style scoped>\n",
       "    .dataframe tbody tr th:only-of-type {\n",
       "        vertical-align: middle;\n",
       "    }\n",
       "\n",
       "    .dataframe tbody tr th {\n",
       "        vertical-align: top;\n",
       "    }\n",
       "\n",
       "    .dataframe thead th {\n",
       "        text-align: right;\n",
       "    }\n",
       "</style>\n",
       "<table border=\"1\" class=\"dataframe\">\n",
       "  <thead>\n",
       "    <tr style=\"text-align: right;\">\n",
       "      <th></th>\n",
       "      <th>Authors</th>\n",
       "      <th>Earliest Publication Year</th>\n",
       "      <th>Latest Publication Year</th>\n",
       "      <th>Total Review Count</th>\n",
       "    </tr>\n",
       "  </thead>\n",
       "  <tbody>\n",
       "    <tr>\n",
       "      <td>0</td>\n",
       "      <td>4664</td>\n",
       "      <td>-1750</td>\n",
       "      <td>2017</td>\n",
       "      <td>596873216</td>\n",
       "    </tr>\n",
       "  </tbody>\n",
       "</table>\n",
       "</div>"
      ],
      "text/plain": [
       "   Authors  Earliest Publication Year  Latest Publication Year  \\\n",
       "0     4664                      -1750                     2017   \n",
       "\n",
       "   Total Review Count  \n",
       "0           596873216  "
      ]
     },
     "execution_count": 48,
     "metadata": {},
     "output_type": "execute_result"
    }
   ],
   "source": [
    "# Place all of the data found into a summary DataFrame\n",
    "Summary_Books = {\n",
    "    \"Authors\": [4664],\n",
    "    \"Earliest Publication Year\": [-1750],\n",
    "    \"Latest Publication Year\": [2017],\n",
    "    \"Total Review Count\": [596873216]\n",
    "}\n",
    "\n",
    "Gbooks_df = pd.DataFrame(Summary_Books)\n",
    "Gbooks_df"
   ]
  }
 ],
 "metadata": {
  "kernelspec": {
   "display_name": "Python 3",
   "language": "python",
   "name": "python3"
  },
  "language_info": {
   "codemirror_mode": {
    "name": "ipython",
    "version": 3
   },
   "file_extension": ".py",
   "mimetype": "text/x-python",
   "name": "python",
   "nbconvert_exporter": "python",
   "pygments_lexer": "ipython3",
   "version": "3.7.3"
  }
 },
 "nbformat": 4,
 "nbformat_minor": 4
}
